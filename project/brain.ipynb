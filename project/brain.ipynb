{
 "metadata": {
  "name": ""
 },
 "nbformat": 3,
 "nbformat_minor": 0,
 "worksheets": [
  {
   "cells": [
    {
     "cell_type": "code",
     "collapsed": false,
     "input": [
      "import csv\n",
      "\n",
      "    "
     ],
     "language": "python",
     "metadata": {},
     "outputs": [],
     "prompt_number": 1
    },
    {
     "cell_type": "code",
     "collapsed": false,
     "input": [
      "\n",
      "f = open('brainiq.csv' , 'rb')\n",
      "reader = csv.reader(f)\n",
      "IQ = []\n",
      "Sex = []\n",
      "for row in reader:\n",
      "    r = map(float, row[0].split())\n",
      "    IQ.append(r[1])\n",
      "    Sex.append(r[3])\n",
      "print IQ\n",
      "print Sex\n",
      "\n",
      "f.close()"
     ],
     "language": "python",
     "metadata": {},
     "outputs": [
      {
       "output_type": "stream",
       "stream": "stdout",
       "text": [
        "Showing people that there is no diffrence between male and female for the one who think that women are not intelligent\n",
        "[96.0, 89.0, 87.0, 87.0, 101.0, 103.0, 103.0, 96.0, 127.0, 126.0, 101.0, 96.0, 93.0, 88.0, 94.0, 85.0, 97.0, 114.0, 113.0, 124.0]\n",
        "[1.0, 2.0, 1.0, 2.0, 1.0, 2.0, 1.0, 2.0, 1.0, 2.0, 2.0, 1.0, 2.0, 1.0, 2.0, 1.0, 1.0, 2.0, 2.0, 1.0]\n"
       ]
      }
     ],
     "prompt_number": 29
    },
    {
     "cell_type": "code",
     "collapsed": false,
     "input": [
      "fig = plt.figure()\n",
      "ax = fig.add_subplot(111)\n",
      "ax.set_title(['Sex & IQ'])\n",
      "ax.set_ylabel(['IQ'])\n",
      "ax.set_xlabel([\"Male\" , \"Female\"])\n",
      "ax.scatter(Sex, IQ)\n",
      "fig.savefig(\"IQ & Sex.png\")\n"
     ],
     "language": "python",
     "metadata": {},
     "outputs": [
      {
       "output_type": "stream",
       "stream": "stdout",
       "text": [
        "Showing people that there is no diffrence between male and female ,for the one who think that women are not intelligent this plot shows some IQ`s for male and female\n"
       ]
      },
      {
       "metadata": {},
       "output_type": "display_data",
       "png": "[encoded data removed]",
       "text": [
        "<matplotlib.figure.Figure at 0xa5c778c>"
       ]
      }
     ],
     "prompt_number": 36
    },
    {
     "cell_type": "markdown",
     "metadata": {},
     "source": [
      "Showing people that there is no diffrence between male and female ,for the one who think that women are not intelligent this plot shows some IQ`s for male and female ."
     ]
    },
    {
     "cell_type": "code",
     "collapsed": false,
     "input": [],
     "language": "python",
     "metadata": {},
     "outputs": []
    }
   ],
   "metadata": {}
  }
 ]
}