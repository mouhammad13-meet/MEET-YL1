{
 "metadata": {
  "name": ""
 },
 "nbformat": 3,
 "nbformat_minor": 0,
 "worksheets": [
  {
   "cells": [
    {
     "cell_type": "code",
     "collapsed": false,
     "input": [
      "import csv"
     ],
     "language": "python",
     "metadata": {},
     "outputs": [],
     "prompt_number": 1
    },
    {
     "cell_type": "code",
     "collapsed": false,
     "input": [
      "f = open('brainiq.csv' , 'rb')\n",
      "reader = csv.reader(f)\n",
      "IQ = []\n",
      "Brainvol = []\n",
      "for row in reader:\n",
      "    r = map(float, row[0].split())\n",
      "    IQ.append(r[1])\n",
      "    Brainvol.append(r[7])\n",
      "print IQ\n",
      "print Brainvol\n",
      "\n",
      "f.close()"
     ],
     "language": "python",
     "metadata": {},
     "outputs": [
      {
       "output_type": "stream",
       "stream": "stdout",
       "text": [
        "[96.0, 89.0, 87.0, 87.0, 101.0, 103.0, 103.0, 96.0, 127.0, 126.0, 101.0, 96.0, 93.0, 88.0, 94.0, 85.0, 97.0, 114.0, 113.0, 124.0]\n",
        "[1005.0, 963.0, 1035.0, 1027.0, 1281.0, 1272.0, 1051.0, 1079.0, 1034.0, 1070.0, 1173.0, 1079.0, 1067.0, 1104.0, 1347.0, 1439.0, 1029.0, 1100.0, 1204.0, 1160.0]\n"
       ]
      }
     ],
     "prompt_number": 7
    },
    {
     "cell_type": "code",
     "collapsed": false,
     "input": [
      "fig = plt.figure()\n",
      "\n",
      "ax = fig.add_subplot(111)\n",
      "\n",
      "ax.set_title(['Brainvol & IQ'])\n",
      "\n",
      "ax.set_ylabel(['IQ'])\n",
      "\n",
      "ax.set_xlabel([\"Brainvol \"\"cm3\"])\n",
      "\n",
      "ax.scatter(Brainvol, IQ)\n",
      "\n",
      "fig.savefig(\"IQ & Brainvol.png\")"
     ],
     "language": "python",
     "metadata": {},
     "outputs": [
      {
       "output_type": "stream",
       "stream": "stdout",
       "text": [
        "People think that who has a big brain has high IQ but this Scatter shows that the IQ has no realtion to the Brain volume\n"
       ]
      },
      {
       "metadata": {},
       "output_type": "display_data",
       "png": "[encoded data removed]",
       "text": [
        "<matplotlib.figure.Figure at 0xb4ff58c>"
       ]
      }
     ],
     "prompt_number": 17
    },
    {
     "cell_type": "markdown",
     "metadata": {},
     "source": [
      "People think that who has a big brain has high IQ but this Scatter shows that the IQ has no realtion to the Brain volume."
     ]
    },
    {
     "cell_type": "code",
     "collapsed": false,
     "input": [],
     "language": "python",
     "metadata": {},
     "outputs": []
    }
   ],
   "metadata": {}
  }
 ]
}