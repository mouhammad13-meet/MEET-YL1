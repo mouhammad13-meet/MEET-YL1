{
 "metadata": {
  "name": ""
 },
 "nbformat": 3,
 "nbformat_minor": 0,
 "worksheets": [
  {
   "cells": [
    {
     "cell_type": "code",
     "collapsed": false,
     "input": [
      "import csv\n"
     ],
     "language": "python",
     "metadata": {},
     "outputs": [],
     "prompt_number": 5
    },
    {
     "cell_type": "code",
     "collapsed": false,
     "input": [
      "\n",
      "f = open('brainiq.csv' , 'rb')\n",
      "reader = csv.reader(f)\n",
      "Weight = []\n",
      "Sex = []\n",
      "male_weight=[]\n",
      "female_weight=[]\n",
      "for row in reader:\n",
      "    r = map(float, row[0].split())\n",
      "    if r[5] == 1.0:\n",
      "        male_weight.append(r[8])\n",
      "    elif r[5] == 2.0:\n",
      "        female_weight.append(r[8])\n",
      "    Weight.append(r[8])\n",
      "    Sex.append(r[5])\n",
      "print Weight\n",
      "print Sex\n",
      "average = sum(male_weight)/ float(len(male_weight)) \n",
      "averagef = sum(female_weight) / float(len(female_weight)) \n",
      "print average\n",
      "print averagef\n",
      "f.close()\n",
      "\n"
     ],
     "language": "python",
     "metadata": {},
     "outputs": [
      {
       "output_type": "stream",
       "stream": "stdout",
       "text": [
        "[57.607, 58.968, 64.184, 58.514, 63.958, 61.69, 133.358, 107.503, 62.143, 83.009, 61.236, 61.236, 83.916, 79.38, 97.524, 99.792, 81.648, 88.452, 79.38, 72.576]\n",
        "[2.0, 2.0, 2.0, 2.0, 2.0, 2.0, 2.0, 2.0, 2.0, 2.0, 1.0, 1.0, 1.0, 1.0, 1.0, 1.0, 1.0, 1.0, 1.0, 1.0]\n",
        "80.514\n",
        "75.0934\n"
       ]
      }
     ],
     "prompt_number": 46
    },
    {
     "cell_type": "code",
     "collapsed": false,
     "input": [
      "fig = plt.figure()\n",
      "ax = fig.add_subplot(111)\n",
      "ax.set_title(['Weight & Sex'])\n",
      "ax.set_ylabel(['Weight'])\n",
      "ax.bar([0, 1], [average, averagef])\n",
      "ax.set_xticklabels([\"Male\", \"\", \"\",\"\",\"\", \"\",\"\", \"Female\"])\n",
      "fig.savefig(\"Weight & Sex.png\")\n"
     ],
     "language": "python",
     "metadata": {},
     "outputs": [
      {
       "metadata": {},
       "output_type": "display_data",
       "png": "[encoded data removed]",
       "text": [
        "<matplotlib.figure.Figure at 0xa87c7ac>"
       ]
      }
     ],
     "prompt_number": 54
    },
    {
     "cell_type": "markdown",
     "metadata": {},
     "source": [
      "This Plot shows the diffrences and similarity between Weight and Sex , It shows that women are not fatter than men and as it shows men are not fatter than women."
     ]
    },
    {
     "cell_type": "code",
     "collapsed": false,
     "input": [],
     "language": "python",
     "metadata": {},
     "outputs": []
    }
   ],
   "metadata": {}
  }
 ]
}